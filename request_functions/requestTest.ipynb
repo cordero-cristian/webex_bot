{
 "cells": [
  {
   "cell_type": "code",
   "execution_count": 2,
   "metadata": {},
   "outputs": [
    {
     "ename": "TypeError",
     "evalue": "__init__() missing 3 required positional arguments: 'baseUrl', 'authTuple', and 'pathToCert'",
     "output_type": "error",
     "traceback": [
      "\u001b[1;31m---------------------------------------------------------------------------\u001b[0m",
      "\u001b[1;31mTypeError\u001b[0m                                 Traceback (most recent call last)",
      "\u001b[1;32mC:\\Users\\CRISTI~1.COR\\AppData\\Local\\Temp/ipykernel_32500/3457564481.py\u001b[0m in \u001b[0;36m<module>\u001b[1;34m\u001b[0m\n\u001b[0;32m      1\u001b[0m \u001b[1;32mfrom\u001b[0m \u001b[0mrequest_functions\u001b[0m \u001b[1;32mimport\u001b[0m \u001b[0mrequest_functions\u001b[0m\u001b[1;33m\u001b[0m\u001b[1;33m\u001b[0m\u001b[0m\n\u001b[0;32m      2\u001b[0m \u001b[1;33m\u001b[0m\u001b[0m\n\u001b[1;32m----> 3\u001b[1;33m \u001b[0mtest\u001b[0m \u001b[1;33m=\u001b[0m \u001b[0mrequest_functions\u001b[0m\u001b[1;33m(\u001b[0m\u001b[1;33m)\u001b[0m\u001b[1;33m\u001b[0m\u001b[1;33m\u001b[0m\u001b[0m\n\u001b[0m",
      "\u001b[1;31mTypeError\u001b[0m: __init__() missing 3 required positional arguments: 'baseUrl', 'authTuple', and 'pathToCert'"
     ]
    }
   ],
   "source": [
    "from request_functions import request_functions\n",
    "from dns.creds import dnsadmin_user,dnsadmin_pass\n",
    "authTuple = (dnsadmin_user,dnsadmin_pass)\n",
    "baseUrl = 'dnsadmin.flexsvc.cloud:443/dnsadmin/api/v1/'\n",
    "certPath = '/etc/pki/tls/certs/ca-bundle.crt'\n",
    "\n",
    "dnsAdminApi = request_functions()"
   ]
  }
 ],
 "metadata": {
  "interpreter": {
   "hash": "2c2469d0e61d0eac482615ecf961b9f47ef32c855a2bf0607a54a3f7c5428bf4"
  },
  "kernelspec": {
   "display_name": "Python 3.9.6 64-bit ('netops-lib': venv)",
   "name": "python3"
  },
  "language_info": {
   "codemirror_mode": {
    "name": "ipython",
    "version": 3
   },
   "file_extension": ".py",
   "mimetype": "text/x-python",
   "name": "python",
   "nbconvert_exporter": "python",
   "pygments_lexer": "ipython3",
   "version": "3.9.6"
  },
  "orig_nbformat": 4
 },
 "nbformat": 4,
 "nbformat_minor": 2
}
